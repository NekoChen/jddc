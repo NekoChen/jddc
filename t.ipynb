{
 "cells": [
  {
   "cell_type": "code",
   "execution_count": 12,
   "id": "loaded-needle",
   "metadata": {
    "jupyter": {
     "source_hidden": true
    }
   },
   "outputs": [],
   "source": [
    "from transformers import BertTokenizer"
   ]
  },
  {
   "cell_type": "code",
   "execution_count": 13,
   "id": "fixed-worcester",
   "metadata": {
    "collapsed": true,
    "jupyter": {
     "outputs_hidden": true,
     "source_hidden": true
    }
   },
   "outputs": [
    {
     "data": {
      "text/plain": [
       "13317"
      ]
     },
     "execution_count": 13,
     "metadata": {},
     "output_type": "execute_result"
    }
   ],
   "source": [
    "tokenizer = BertTokenizer(vocab_file=\"vocabulary/vocab_small.txt\")\n",
    "len(tokenizer)"
   ]
  },
  {
   "cell_type": "code",
   "execution_count": 26,
   "id": "discrete-oakland",
   "metadata": {
    "collapsed": true,
    "jupyter": {
     "outputs_hidden": true,
     "source_hidden": true
    }
   },
   "outputs": [
    {
     "data": {
      "text/plain": [
       "13321"
      ]
     },
     "execution_count": 26,
     "metadata": {},
     "output_type": "execute_result"
    }
   ],
   "source": [
    "words= \"[Goal1]你好[KG][Goal5][Goal4]\"\n",
    "dic = {'additional_special_tokens':[\"[Goal1]\",\"[KG]\",\"[Goal2]\",\"[Goal3]\",\"[Goal4]\",\"[Goal5]\",\"[A]\",\"[Q]\",\"[RE]\"]}\n",
    "tokenizer.add_special_tokens(dic)\n",
    "len(tokenizer)"
   ]
  },
  {
   "cell_type": "code",
   "execution_count": 23,
   "id": "exceptional-desert",
   "metadata": {
    "collapsed": true,
    "jupyter": {
     "outputs_hidden": true,
     "source_hidden": true
    }
   },
   "outputs": [
    {
     "data": {
      "text/plain": [
       "[138, 100, 157, 143, 154, 122, 140, 872, 1962, 138, 100, 100, 140]"
      ]
     },
     "execution_count": 23,
     "metadata": {},
     "output_type": "execute_result"
    }
   ],
   "source": [
    "dialogue_ids = []\n",
    "dialogue_ids.extend(tokenizer.convert_tokens_to_ids(word) for word in words)\n",
    "dialogue_ids"
   ]
  },
  {
   "cell_type": "code",
   "execution_count": 11,
   "id": "national-bunch",
   "metadata": {
    "collapsed": true,
    "jupyter": {
     "outputs_hidden": true
    }
   },
   "outputs": [
    {
     "data": {
      "text/plain": [
       "100"
      ]
     },
     "execution_count": 11,
     "metadata": {},
     "output_type": "execute_result"
    }
   ],
   "source": [
    "tokenizer.convert_tokens_to_ids(words)"
   ]
  },
  {
   "cell_type": "code",
   "execution_count": 31,
   "id": "protecting-influence",
   "metadata": {
    "collapsed": true,
    "jupyter": {
     "outputs_hidden": true,
     "source_hidden": true
    }
   },
   "outputs": [
    {
     "data": {
      "text/plain": [
       "['[Goal1]', '你', '好', '[KG]', '[Goal5]', '[Goal4]']"
      ]
     },
     "execution_count": 31,
     "metadata": {},
     "output_type": "execute_result"
    }
   ],
   "source": [
    "out = tokenizer.tokenize(words)\n",
    "dialogue_ids = []\n",
    "dialogue_ids.extend(tokenizer.convert_tokens_to_ids(word) for word in out)\n",
    "text = tokenizer.convert_ids_to_tokens(dialogue_ids)\n",
    "text"
   ]
  },
  {
   "cell_type": "code",
   "execution_count": 28,
   "id": "normal-reach",
   "metadata": {
    "collapsed": true,
    "jupyter": {
     "outputs_hidden": true,
     "source_hidden": true
    }
   },
   "outputs": [
    {
     "data": {
      "text/plain": [
       "['[Goal1]', '你', '好', '[KG]', '[Goal5]', '[Goal4]']"
      ]
     },
     "execution_count": 28,
     "metadata": {},
     "output_type": "execute_result"
    }
   ],
   "source": [
    "out"
   ]
  },
  {
   "cell_type": "code",
   "execution_count": 26,
   "id": "ahead-retrieval",
   "metadata": {
    "jupyter": {
     "source_hidden": true
    }
   },
   "outputs": [],
   "source": [
    "import numpy as np\n",
    "import torch\n",
    "n_position = 200\n",
    "d_hid = 10\n",
    "def get_position_angle_vec(position):\n",
    "    return [position / np.power(10000, 2 * (hid_j // 2) / d_hid) for hid_j in range(d_hid)]"
   ]
  },
  {
   "cell_type": "code",
   "execution_count": 24,
   "id": "suffering-viewer",
   "metadata": {
    "collapsed": true,
    "jupyter": {
     "outputs_hidden": true
    }
   },
   "outputs": [
    {
     "data": {
      "text/plain": [
       "(200, 10)"
      ]
     },
     "execution_count": 24,
     "metadata": {},
     "output_type": "execute_result"
    }
   ],
   "source": [
    "sinusoid_table = np.array([get_position_angle_vec(pos_i) for pos_i in range(n_position)])\n",
    "sinusoid_table[:, 0::2] = np.sin(sinusoid_table[:, 0::2])  # dim 2i\n",
    "sinusoid_table[:, 1::2] = np.cos(sinusoid_table[:, 1::2])  # dim 2i+1\n",
    "sinusoid_table.shape"
   ]
  },
  {
   "cell_type": "code",
   "execution_count": 28,
   "id": "variable-production",
   "metadata": {
    "collapsed": true,
    "jupyter": {
     "outputs_hidden": true
    }
   },
   "outputs": [
    {
     "data": {
      "text/plain": [
       "10"
      ]
     },
     "execution_count": 28,
     "metadata": {},
     "output_type": "execute_result"
    }
   ],
   "source": [
    "sinusoid_table = torch.FloatTensor(sinusoid_table)\n",
    "sinusoid_table.size(1)"
   ]
  },
  {
   "cell_type": "code",
   "execution_count": 1,
   "id": "numerical-settle",
   "metadata": {},
   "outputs": [],
   "source": [
    "def collate_fn(batch):\n",
    "    \"\"\"\n",
    "    计算该batch中的所有sample的最长的input，并且将其他input的长度向其对齐\n",
    "    :param batch:\n",
    "    :return:\n",
    "    \"\"\"\n",
    "    global pad_id\n",
    "    input_ids = []\n",
    "    btc_size = len(batch)\n",
    "    max_input_len = 0  # 该batch中最长的input，用于该batch的数据对齐\n",
    "    # 计算该batch中input的最大长度\n",
    "    for btc_idx in range(btc_size):\n",
    "        if max_input_len < len(batch[btc_idx]):\n",
    "            max_input_len = len(batch[btc_idx])\n",
    "    # 使用pad_id对小于max_input_len的input_id进行补全\n",
    "    for btc_idx in range(btc_size):\n",
    "        input_len = len(batch[btc_idx])\n",
    "        input_ids.append(batch[btc_idx])\n",
    "        input_ids[btc_idx].extend([pad_id] * (max_input_len - input_len))                                                                                 \n",
    "    return torch.tensor(input_ids, dtype=torch.long)\n"
   ]
  },
  {
   "cell_type": "code",
   "execution_count": 2,
   "id": "occasional-subcommittee",
   "metadata": {},
   "outputs": [],
   "source": [
    "from transformers import BertTokenizer\n",
    "import torch\n",
    "tokenizer = BertTokenizer(vocab_file='vocabulary/vocab_small.txt')\n",
    "# tokenizer的字典大小\n",
    "dic = {'additional_special_tokens':[\"[Goal1]\",\"[KG]\",\"[Goal2]\",\"[Goal3]\",\"[Goal4]\",\"[Goal5]\",\"[A]\",\"[Q]\",\"[RE]\"]}\n",
    "tokenizer.add_special_tokens(dic)\n",
    "vocab_size = len(tokenizer)\n",
    "global pad_id\n",
    "pad_id = tokenizer.convert_tokens_to_ids('[PAD]')"
   ]
  },
  {
   "cell_type": "code",
   "execution_count": 3,
   "id": "significant-signal",
   "metadata": {},
   "outputs": [],
   "source": [
    "import transformers\n",
    "from transformers import GPT2LMHeadModel\n",
    "def create_model(vocab_size):\n",
    "    \"\"\"\n",
    "    :param args:\n",
    "    :param vocab_size:字典大小\n",
    "    :return:\n",
    "    \"\"\"\n",
    "   \n",
    "    model_config = transformers.modeling_gpt2.GPT2Config.from_json_file('config/model_config_dialogue_small.json')\n",
    "    model = GPT2LMHeadModel(config=model_config)\n",
    "    # 根据tokenizer的vocabulary调整GPT2模型的voca的大小\n",
    "    model.resize_token_embeddings(vocab_size)\n",
    "    return model\n",
    "\n",
    "model = create_model(vocab_size)"
   ]
  },
  {
   "cell_type": "code",
   "execution_count": 4,
   "id": "floating-privilege",
   "metadata": {},
   "outputs": [],
   "source": [
    "with open('data/train_tokenized.txt', \"r\", encoding=\"utf8\") as f:\n",
    "    data = f.read()"
   ]
  },
  {
   "cell_type": "code",
   "execution_count": 5,
   "id": "clinical-reminder",
   "metadata": {},
   "outputs": [
    {
     "data": {
      "text/plain": [
       "19858"
      ]
     },
     "execution_count": 5,
     "metadata": {},
     "output_type": "execute_result"
    }
   ],
   "source": [
    "data = data.split('\\n')\n",
    "len(data)"
   ]
  },
  {
   "cell_type": "code",
   "execution_count": 6,
   "id": "secondary-poultry",
   "metadata": {},
   "outputs": [],
   "source": [
    "from dataset import MyDataset\n",
    "from torch.utils.data import Dataset, DataLoader\n",
    "train_dataset = MyDataset(data)\n",
    "train_dataloader = DataLoader(train_dataset, batch_size = 4, shuffle = True, collate_fn = collate_fn)"
   ]
  },
  {
   "cell_type": "code",
   "execution_count": 7,
   "id": "composed-regard",
   "metadata": {},
   "outputs": [
    {
     "name": "stdout",
     "output_type": "stream",
     "text": [
      "4\n"
     ]
    }
   ],
   "source": [
    "for batch_id, input_ids in enumerate(train_dataloader):\n",
    "    outputs = model.forward(input_ids=input_ids)\n",
    "    print(len(input_ids))\n",
    "    #print(input_ids[0])\n",
    "    break"
   ]
  },
  {
   "cell_type": "code",
   "execution_count": 22,
   "id": "disabled-xerox",
   "metadata": {},
   "outputs": [],
   "source": [
    "logits = outputs[0]\n",
    "logits.shape\n",
    "shift_logits = logits[...,:-1,:].contiguous() #torch.Size([4, 457, 13318])\n",
    "shift_labels = input_ids[...,1:].contiguous() #torch.Size([4, 457])\n",
    "from torch.nn import CrossEntropyLoss"
   ]
  },
  {
   "cell_type": "code",
   "execution_count": 43,
   "id": "closed-queue",
   "metadata": {},
   "outputs": [
    {
     "name": "stdout",
     "output_type": "stream",
     "text": [
      "torch.Size([4, 555, 13318])\n",
      "13\n"
     ]
    }
   ],
   "source": [
    "shift_labels.size(1)\n",
    "loss_fct = CrossEntropyLoss(ignore_index = 0, reduction = 'sum')\n",
    "print(shift_logits.shape)\n",
    "print(tokenizer.convert_tokens_to_ids('[RE]'))"
   ]
  },
  {
   "cell_type": "code",
   "execution_count": 62,
   "id": "advanced-surge",
   "metadata": {},
   "outputs": [
    {
     "name": "stdout",
     "output_type": "stream",
     "text": [
      "tensor(861.5113, grad_fn=<AddBackward0>) tensor(0.)\n"
     ]
    }
   ],
   "source": [
    "import copy \n",
    "import numpy as np\n",
    "loss = 0.0\n",
    "accuracy = 0.0\n",
    "num_targets_sum = 0.0\n",
    "for index,shift_label in enumerate (shift_labels):\n",
    "    label_no_grad = shift_label.detach()\n",
    "    lab_2np = label_no_grad.numpy()\n",
    "    itemindex = np.argwhere(lab_2np == 13)## '[re]'的index\n",
    "    #print(itemindex[0][0])\n",
    "    #print(shift_labels[index][itemindex[0][0]])\n",
    "    ### 计算loss\n",
    "    loss += loss_fct(shift_logits[index][itemindex[0][0]+1:].view(-1, shift_logits.size(-1)),\n",
    "                     shift_labels[index][itemindex[0][0]+1:].view(-1))\n",
    "    ### 计算acc\n",
    "    _, preds = shift_logits[index].max(dim=-1)\n",
    "    not_ignore = shift_label.ne(pad_id)\n",
    "    num_targets = not_ignore.long().sum().item()\n",
    "    num_targets_sum += num_targets\n",
    "    \n",
    "    correct = (shift_label == preds) & not_ignore  # 计算model预测正确的token的个数，排除pad的tokne\n",
    "    correct = correct.float().sum()\n",
    "    \n",
    "print(loss, correct)"
   ]
  },
  {
   "cell_type": "code",
   "execution_count": 60,
   "id": "exotic-teens",
   "metadata": {},
   "outputs": [
    {
     "data": {
      "text/plain": [
       "torch.Size([4, 555])"
      ]
     },
     "execution_count": 60,
     "metadata": {},
     "output_type": "execute_result"
    }
   ],
   "source": [
    "_, preds = shift_logits.max(dim=-1)\n",
    "preds.shape"
   ]
  },
  {
   "cell_type": "code",
   "execution_count": 3,
   "id": "square-mapping",
   "metadata": {},
   "outputs": [
    {
     "data": {
      "text/plain": [
       "'/home/jiahao/GPT2-chitchat'"
      ]
     },
     "execution_count": 3,
     "metadata": {},
     "output_type": "execute_result"
    }
   ],
   "source": [
    "import os\n",
    "CUR_DIR = os.path.dirname(os.path.abspath(\"__file__\"))\n",
    "CUR_DIR"
   ]
  },
  {
   "cell_type": "code",
   "execution_count": null,
   "id": "photographic-mexico",
   "metadata": {},
   "outputs": [],
   "source": []
  }
 ],
 "metadata": {
  "kernelspec": {
   "display_name": "Python 3",
   "language": "python",
   "name": "python3"
  },
  "language_info": {
   "codemirror_mode": {
    "name": "ipython",
    "version": 3
   },
   "file_extension": ".py",
   "mimetype": "text/x-python",
   "name": "python",
   "nbconvert_exporter": "python",
   "pygments_lexer": "ipython3",
   "version": "3.7.9"
  }
 },
 "nbformat": 4,
 "nbformat_minor": 5
}
